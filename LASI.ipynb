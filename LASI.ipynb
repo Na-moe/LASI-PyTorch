{
 "cells": [
  {
   "cell_type": "markdown",
   "metadata": {},
   "source": [
    "# The Unreasonable Effectiveness of Linear Prediction as a Perceptual Metric\n",
    "\n",
    "- https://github.com/dsevero/Linear-Autoregressive-Similarity-Index\n",
    "- https://github.com/Na-moe/LASI-PyTorch\n",
    "- https://arxiv.org/abs/2310.05986\n"
   ]
  },
  {
   "cell_type": "markdown",
   "metadata": {},
   "source": [
    "# Setup (run this first)"
   ]
  },
  {
   "cell_type": "markdown",
   "metadata": {},
   "source": [
    "## Clone repo"
   ]
  },
  {
   "cell_type": "code",
   "execution_count": null,
   "metadata": {},
   "outputs": [],
   "source": [
    "!git clone https://github.com/Na-moe/LASI-PyTorch.git ./lasi_pytorch\n",
    "%cd lasi_pytorch"
   ]
  },
  {
   "cell_type": "markdown",
   "metadata": {},
   "source": [
    "## Install dependencies"
   ]
  },
  {
   "cell_type": "code",
   "execution_count": 1,
   "metadata": {},
   "outputs": [
    {
     "name": "stdout",
     "output_type": "stream",
     "text": [
      "Requirement already satisfied: pip in /home/namoe/miniconda3/envs/lasi/lib/python3.10/site-packages (24.0)\n",
      "Looking in indexes: https://download.pytorch.org/whl/cu121\n",
      "Requirement already satisfied: torch in /home/namoe/miniconda3/envs/lasi/lib/python3.10/site-packages (2.3.1+cu121)\n",
      "Requirement already satisfied: filelock in /home/namoe/miniconda3/envs/lasi/lib/python3.10/site-packages (from torch) (3.13.1)\n",
      "Requirement already satisfied: typing-extensions>=4.8.0 in /home/namoe/miniconda3/envs/lasi/lib/python3.10/site-packages (from torch) (4.11.0)\n",
      "Requirement already satisfied: sympy in /home/namoe/miniconda3/envs/lasi/lib/python3.10/site-packages (from torch) (1.12)\n",
      "Requirement already satisfied: networkx in /home/namoe/miniconda3/envs/lasi/lib/python3.10/site-packages (from torch) (3.2.1)\n",
      "Requirement already satisfied: jinja2 in /home/namoe/miniconda3/envs/lasi/lib/python3.10/site-packages (from torch) (3.1.4)\n",
      "Requirement already satisfied: fsspec in /home/namoe/miniconda3/envs/lasi/lib/python3.10/site-packages (from torch) (2024.2.0)\n",
      "Requirement already satisfied: nvidia-cuda-nvrtc-cu12==12.1.105 in /home/namoe/miniconda3/envs/lasi/lib/python3.10/site-packages (from torch) (12.1.105)\n",
      "Requirement already satisfied: nvidia-cuda-runtime-cu12==12.1.105 in /home/namoe/miniconda3/envs/lasi/lib/python3.10/site-packages (from torch) (12.1.105)\n",
      "Requirement already satisfied: nvidia-cuda-cupti-cu12==12.1.105 in /home/namoe/miniconda3/envs/lasi/lib/python3.10/site-packages (from torch) (12.1.105)\n",
      "Requirement already satisfied: nvidia-cudnn-cu12==8.9.2.26 in /home/namoe/miniconda3/envs/lasi/lib/python3.10/site-packages (from torch) (8.9.2.26)\n",
      "Requirement already satisfied: nvidia-cublas-cu12==12.1.3.1 in /home/namoe/miniconda3/envs/lasi/lib/python3.10/site-packages (from torch) (12.1.3.1)\n",
      "Requirement already satisfied: nvidia-cufft-cu12==11.0.2.54 in /home/namoe/miniconda3/envs/lasi/lib/python3.10/site-packages (from torch) (11.0.2.54)\n",
      "Requirement already satisfied: nvidia-curand-cu12==10.3.2.106 in /home/namoe/miniconda3/envs/lasi/lib/python3.10/site-packages (from torch) (10.3.2.106)\n",
      "Requirement already satisfied: nvidia-cusolver-cu12==11.4.5.107 in /home/namoe/miniconda3/envs/lasi/lib/python3.10/site-packages (from torch) (11.4.5.107)\n",
      "Requirement already satisfied: nvidia-cusparse-cu12==12.1.0.106 in /home/namoe/miniconda3/envs/lasi/lib/python3.10/site-packages (from torch) (12.1.0.106)\n",
      "Requirement already satisfied: nvidia-nccl-cu12==2.20.5 in /home/namoe/miniconda3/envs/lasi/lib/python3.10/site-packages (from torch) (2.20.5)\n",
      "Requirement already satisfied: nvidia-nvtx-cu12==12.1.105 in /home/namoe/miniconda3/envs/lasi/lib/python3.10/site-packages (from torch) (12.1.105)\n",
      "Requirement already satisfied: triton==2.3.1 in /home/namoe/miniconda3/envs/lasi/lib/python3.10/site-packages (from torch) (2.3.1)\n",
      "Requirement already satisfied: nvidia-nvjitlink-cu12 in /home/namoe/miniconda3/envs/lasi/lib/python3.10/site-packages (from nvidia-cusolver-cu12==11.4.5.107->torch) (12.1.105)\n",
      "Requirement already satisfied: MarkupSafe>=2.0 in /home/namoe/miniconda3/envs/lasi/lib/python3.10/site-packages (from jinja2->torch) (2.1.3)\n",
      "Requirement already satisfied: mpmath>=0.19 in /home/namoe/miniconda3/envs/lasi/lib/python3.10/site-packages (from sympy->torch) (1.3.0)\n",
      "Obtaining file:///home/namoe/lasi_pytorch\n",
      "  Preparing metadata (setup.py) ... \u001b[?25ldone\n",
      "\u001b[?25hInstalling collected packages: lasi_pytorch\n",
      "  Attempting uninstall: lasi_pytorch\n",
      "    Found existing installation: lasi_pytorch 0.0.0\n",
      "    Uninstalling lasi_pytorch-0.0.0:\n",
      "      Successfully uninstalled lasi_pytorch-0.0.0\n",
      "  Running setup.py develop for lasi_pytorch\n",
      "Successfully installed lasi_pytorch-0.0.0\n"
     ]
    }
   ],
   "source": [
    "!./install.sh"
   ]
  },
  {
   "cell_type": "markdown",
   "metadata": {},
   "source": [
    "# How to use LASI-PyTorch in your own code"
   ]
  },
  {
   "cell_type": "code",
   "execution_count": 1,
   "metadata": {},
   "outputs": [],
   "source": [
    "%load_ext autoreload\n",
    "%autoreload 2"
   ]
  },
  {
   "cell_type": "code",
   "execution_count": 28,
   "metadata": {},
   "outputs": [
    {
     "name": "stdout",
     "output_type": "stream",
     "text": [
      "True\n",
      "Elapsed time: 16.053 s\n",
      "d(img_megg, img_dark_megg) = 1.3687046766281128\n",
      "d(ref, p0) = 1.3687046766281128\n",
      "d(ref, p1) = 1.349355697631836\n",
      "False\n",
      "Elapsed time: 9.634 s\n",
      "d(img_megg, img_dark_megg) = 1.3687046766281128\n",
      "d(ref, p0) = 1.3687046766281128\n",
      "d(ref, p1) = 1.349355697631836\n"
     ]
    }
   ],
   "source": [
    "# you may need to install pillow first\n",
    "from PIL import Image\n",
    "from lasi_pytorch import LASI\n",
    "import torch\n",
    "import time\n",
    "\n",
    "import numpy as np\n",
    "\n",
    "# set cuda device\n",
    "torch.set_default_device('cuda')\n",
    "\n",
    "# Load images.\n",
    "img_megg = torch.tensor(np.array(Image.open('assets/megg.png').convert('RGB')))\n",
    "img_dark_megg = torch.tensor(np.array(Image.open('assets/dark-megg.png').convert('RGB')))\n",
    "assert img_dark_megg.shape == img_megg.shape\n",
    "\n",
    "# Compute the distance between img_megg and img_dark_megg.\n",
    "lasi = LASI(img_megg.shape, neighborhood_size=10, use_vmap=True)\n",
    "print(lasi.use_vmap)\n",
    "lasi = torch.compile(lasi)\n",
    "start = time.time()\n",
    "for i in range(100):\n",
    "    distance = lasi.compute_distance(img_megg, img_dark_megg)\n",
    "# sync\n",
    "torch.cuda.synchronize()\n",
    "print(f'Elapsed time: {time.time() - start:.3f} s')\n",
    "print(f'd(img_megg, img_dark_megg) = {distance}')\n",
    "\n",
    "# Efficiently compute the distance between multiple images relative to a reference (img_megg).\n",
    "# This function jits internally.\n",
    "img_megg_offset = torch.clip(img_megg + 20, 0 ,255)\n",
    "distances = lasi.compute_distance_multiple(\n",
    "    ref=img_megg, p0=img_dark_megg, p1=img_megg_offset)\n",
    "print(f\"d(ref, p0) = {distances['p0']}\")\n",
    "print(f\"d(ref, p1) = {distances['p1']}\")\n",
    "\n",
    "lasi0 = LASI(img_megg.shape, neighborhood_size=10, use_vmap=False)\n",
    "print(lasi0.use_vmap)\n",
    "lasi0 = torch.compile(lasi0)\n",
    "start = time.time()\n",
    "for i in range(100):\n",
    "    distance0 = lasi0.compute_distance(img_megg, img_dark_megg)\n",
    "torch.cuda.synchronize()\n",
    "print(f'Elapsed time: {time.time() - start:.3f} s')\n",
    "print(f'd(img_megg, img_dark_megg) = {distance0}')\n",
    "distances0 = lasi0.compute_distance_multiple(\n",
    "    ref=img_megg, p0=img_dark_megg, p1=img_megg_offset)\n",
    "print(f\"d(ref, p0) = {distances0['p0']}\")\n",
    "print(f\"d(ref, p1) = {distances0['p1']}\")"
   ]
  }
 ],
 "metadata": {
  "kernelspec": {
   "display_name": "neuroc",
   "language": "python",
   "name": "python3"
  },
  "language_info": {
   "codemirror_mode": {
    "name": "ipython",
    "version": 3
   },
   "file_extension": ".py",
   "mimetype": "text/x-python",
   "name": "python",
   "nbconvert_exporter": "python",
   "pygments_lexer": "ipython3",
   "version": "3.12.8"
  }
 },
 "nbformat": 4,
 "nbformat_minor": 2
}
